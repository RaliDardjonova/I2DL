{
 "cells": [
  {
   "cell_type": "markdown",
   "metadata": {},
   "source": [
    "Recurrent Neural Networks (RNN)\n",
    "====================\n",
    "\n",
    "In this exercise we will work with Recurrent Neural Networks (RNN). A RNN is class of neural networks where the output not only depends on the current input but also on previous inputs along a given input sequence. This allows to exhibit temporal dynamic behaviour and contextual information in a sequence. Common applications for RNN are:\n",
    "\n",
    "- time series analysis\n",
    "- speech recognition\n",
    "- machine translation\n",
    "- image captioning\n",
    "\n",
    "\n",
    "Goal of this exercise\n",
    "========\n",
    "\n",
    "This exercise notebook should help you to experiment how recurrent neural networks are implemented, trained, and used for computer vision problems. Therefore, this notebook is structured as follows:\n",
    "1. Implement your own simple RNN class in Pytorch.\n",
    "2. Explore the backpropagation of the gradients in the RNN and discuss the vanishing gradient problem.\n",
    "3. Implement your own LSTM (Long-Short Term Memory) Network and show that this architecture improves the vanishing gradient problem.\n",
    "4. Build a RNN classifier for the MNIST dataset and train your model.\n",
    "5. Tune the hyperparameters of your model and submit your best model to the server to get bonus points.\n",
    "\n"
   ]
  },
  {
   "cell_type": "code",
   "execution_count": 1,
   "metadata": {},
   "outputs": [],
   "source": [
    "import numpy as np\n",
    "import matplotlib.pyplot as plt\n",
    "import torch\n",
    "from torch.autograd import Variable\n",
    "import os\n",
    "\n",
    "device = torch.device(\"cuda:0\" if torch.cuda.is_available() else \"cpu\")\n",
    "\n",
    "%matplotlib inline\n",
    "plt.rcParams['figure.figsize'] = (10.0, 8.0) # set default size of plots\n",
    "plt.rcParams['image.interpolation'] = 'nearest'\n",
    "plt.rcParams['image.cmap'] = 'gray'\n",
    "\n",
    "# for auto-reloading external modules\n",
    "# see http://stackoverflow.com/questions/1907993/autoreload-of-modules-in-ipython\n",
    "%load_ext autoreload\n",
    "%autoreload 2"
   ]
  },
  {
   "cell_type": "code",
   "execution_count": 2,
   "metadata": {},
   "outputs": [
    {
     "name": "stdout",
     "output_type": "stream",
     "text": [
      "Using python:  3.7.5\n",
      "Using torch version:  1.3.1\n",
      "Using device:  cpu\n"
     ]
    }
   ],
   "source": [
    "import platform\n",
    "print('Using python: ', platform.python_version())\n",
    "print('Using torch version: ', torch.__version__)\n",
    "print('Using device: ', device)\n",
    "# Machine: 2015 13\" Macbook Pro, i5 dual core"
   ]
  },
  {
   "attachments": {
    "image.png": {
     "image/png": "[encoded data removed]"
    }
   },
   "cell_type": "markdown",
   "metadata": {},
   "source": [
    "## Simple Recurrent Neural Network\n",
    "\n",
    "The recurrent loops in a RNN allow relevant information to persist over time. A simple RNN architecture is shown here:\n",
    "<img src=http://colah.github.io/posts/2015-08-Understanding-LSTMs/img/RNN-rolled.png width=\"150\">\n",
    "\n",
    "A simple RNN takes not only an input X at time step t but also passes a hidden state that is the output of the previous time step into the network. The output of a RNN cell at time step t reads in Eq. 1:\n",
    "\n",
    "![image.png](attachment:image.png)\n",
    "\n",
    "In this task you have to implement a simple one-layer RNN as a class in Pytorch, where you can choose a relu or tanh activation in the cell.You can see the architecture of a simple RNN in the figure below.\n",
    "\n",
    "\n",
    "<img src=http://colah.github.io/posts/2015-08-Understanding-LSTMs/img/LSTM3-SimpleRNN.png width=\"600\">\n",
    "\n"
   ]
  },
  {
   "cell_type": "code",
   "execution_count": 3,
   "metadata": {},
   "outputs": [],
   "source": [
    "# ToDo: Implement the RNN class\n",
    "from exercise_code.rnn.rnn_nn import RNN"
   ]
  },
  {
   "cell_type": "markdown",
   "metadata": {},
   "source": [
    "Luckily, Pytorch already has implemented a simple RNN in their library and you can call the RNN with <code>nn.RNN</code>. We will use the Pytorch RNN function to check if we have built the correct cell and compare the output of both functions. We also compare the running time of both classes."
   ]
  },
  {
   "cell_type": "code",
   "execution_count": 4,
   "metadata": {
    "scrolled": false
   },
   "outputs": [
    {
     "name": "stdout",
     "output_type": "stream",
     "text": [
      "Differnce between pytorch and your RNN implementation: 5.3290705182007514e-14\n",
      "Cool, you implemented a correct model.\n"
     ]
    }
   ],
   "source": [
    "import torch.nn as nn\n",
    "import timeit\n",
    "\n",
    "# choose your network parameters\n",
    "input_size = 3\n",
    "hidden_dim = 3\n",
    "seq_len = 10 \n",
    "\n",
    "# define the two models\n",
    "pytorch_rnn=nn.RNN(input_size, hidden_dim)\n",
    "i2dl_rnn=RNN(input_size, hidden_dim)\n",
    "\n",
    "# initialise both rnn with same values\n",
    "for p in pytorch_rnn.parameters():\n",
    "    nn.init.constant_(p, val=0.3)\n",
    "for p in i2dl_rnn.parameters():\n",
    "    nn.init.constant_(p, val=0.3)\n",
    "    \n",
    "X=torch.randn(seq_len, 1, input_size)\n",
    "\n",
    "output_pytorch, h_pytorch = pytorch_rnn(X)\n",
    "output_i2dl, h_i2dl = i2dl_rnn(X)\n",
    "\n",
    "#print(output_pytorch)\n",
    "#print('+++')\n",
    "#print(output_i2dl)\n",
    "# The difference of outputs should be 0!!\n",
    "\n",
    "diff = torch.sum((output_pytorch-output_i2dl) ** 2)\n",
    "print(\"Differnce between pytorch and your RNN implementation: %s\" % diff.item())\n",
    "if diff.item() < 10 ** -10:\n",
    "    print(\"Cool, you implemented a correct model.\")\n",
    "else:\n",
    "    print(\"Upps! There is something wrong in your model. Try again!\")"
   ]
  },
  {
   "cell_type": "code",
   "execution_count": 5,
   "metadata": {},
   "outputs": [
    {
     "name": "stdout",
     "output_type": "stream",
     "text": [
      "Time Pytorch RNN 10000 runs: 3.601s\n",
      "Time I2DL RNN 10000 run: 7.101s\n"
     ]
    }
   ],
   "source": [
    "import timeit\n",
    "runs=10 ** 4\n",
    "\n",
    "print(\"Time Pytorch RNN {} runs: {:.3f}s\".format(runs, timeit.timeit(\"pytorch_rnn(X)\", \n",
    "                                       setup=\"from __main__ import pytorch_rnn, X\", \n",
    "                                       number=runs))\n",
    "     )\n",
    "\n",
    "print(\"Time I2DL RNN {} run: {:.3f}s\".format(runs, timeit.timeit(\"i2dl_rnn(X)\", \n",
    "                                       setup=\"from __main__ import i2dl_rnn, X\", \n",
    "                                       number=runs))\n",
    "     )"
   ]
  },
  {
   "cell_type": "markdown",
   "metadata": {},
   "source": [
    "From now on we will use the Pytorch module that is faster and optimised in performance. However, it is always a good exercise to build the functions by yourself and we really advice you to do the exercise!"
   ]
  },
  {
   "cell_type": "markdown",
   "metadata": {},
   "source": [
    "## Vanishing Gradient\n",
    "\n",
    "As discussed in the lecture, the simple RNN suffers from vanishing gradients in the backpropagation. The hidden state is manipulated in every time step along the sequence and the effect of the past inputs to the final output vanishes with the distance in time. In the next cell we will explore the vanishing effect of previous inputs in the RNN."
   ]
  },
  {
   "cell_type": "code",
   "execution_count": 6,
   "metadata": {},
   "outputs": [
    {
     "data": {
      "text/plain": [
       "[<matplotlib.lines.Line2D at 0x7fc2d80df410>]"
      ]
     },
     "execution_count": 6,
     "metadata": {},
     "output_type": "execute_result"
    },
    {
     "data": {
      "image/png": "[encoded data removed]",
      "text/plain": [
       "<Figure size 720x576 with 1 Axes>"
      ]
     },
     "metadata": {
      "needs_background": "light"
     },
     "output_type": "display_data"
    }
   ],
   "source": [
    "############################################################################\n",
    "# TODO: Define a RNN and explore the gradients on the output h_T wrt. the  #\n",
    "# input at time t and plot your result. What behaviour do you observe?     #\n",
    "# Hints:                                                                   #\n",
    "#   - use one input feature                                                #\n",
    "#   - pytorch allows backward() pass wrt. to any vector                    #\n",
    "#   - backward() can only be applied to scalars and not to output tensors  #\n",
    "#   - choose a good representation of the gradient plot                    #\n",
    "############################################################################\n",
    "\n",
    "# network parameters\n",
    "input_size = 3\n",
    "hidden_dim = 3\n",
    "seq_len = 100 \n",
    "\n",
    "def rnn_step(x_t, h_t, weight_ih, weight_hh, bias_hh, bias2):\n",
    "    return torch.tanh(x_t @ weight_ih + h_t @ weight_hh + bias_hh + bias2)\n",
    "\n",
    "rnn=RNN(input_size, hidden_dim)\n",
    "for p in pytorch_rnn.parameters():\n",
    "    nn.init.constant_(p, val=0.3)\n",
    "\n",
    "X=torch.randn(seq_len, 1, input_size)\n",
    "\n",
    "output, h = rnn(X)\n",
    "\n",
    "h_0 = torch.zeros(rnn.hidden_size, requires_grad=True).to(X.device)\n",
    "h_t = h_0\n",
    "grads = []\n",
    "\n",
    "for t in range(seq_len):\n",
    "    h_t = rnn_step(X[t], h_t,rnn.V, rnn.W, rnn.b, rnn.b2)\n",
    "    #h_t = output[t].squeeze(1)\n",
    "    #print(h_t, '+++++++++++++++',h)\n",
    "    loss = h_t.abs().sum() # we'll use the l1 norm of the current hidden state as the loss\n",
    "    loss.backward(retain_graph=True)\n",
    "    grads.append(torch.norm(h_0.grad).item())\n",
    "    h_0.grad.zero_()\n",
    "\n",
    "plt.plot(grads)\n",
    "############################################################################\n",
    "#                             END OF YOUR CODE                             #\n",
    "############################################################################"
   ]
  },
  {
   "cell_type": "markdown",
   "metadata": {},
   "source": [
    "\n",
    "<div class=\"alert alert-info\">\n",
    "    <h3>Note</h3>\n",
    "    <p>It can be seen that the gradient of the output at time t wrt. to a previous input decreases exponentially. Hence, the final output does not change significantly for changes in the previous input and hence the RNN does not have memory.</p> \n",
    "<h3>Question</h3> \n",
    "<p>In order to better understand the vanishing gradient problem, calculate the gradients \n",
    "dh_t/dV, dh_t /dW, and dh_t/dX_0 analytically for t=3 and h_0=0 using Eq. 1. This exercise might seem a little bit tedious but it is really useful. Can you explain the vanishing gradient mathematically based on your findings?</p>\n",
    "</div>"
   ]
  },
  {
   "cell_type": "markdown",
   "metadata": {},
   "source": [
    "## Long-Short Term Memory Network (LSTM)\n",
    "The vanishing gradient problem had been known for some time until Schmidhuber (1997) developed the Long-Short Term Memory Network and showed that this architecture can overcome the problem. <br> \n",
    "A LSTM is a more advanced recurrent network architecture that is able to learn long time dependencies. The architecture of a LSTM is composed of a forget, input, and output gate and the cell can remember values over arbitrary time intervals. Despite various different and exotic LSTM architectures, the standard LSTM cell is shwon in the figure below:\n",
    "\n",
    "\n",
    "<img src=http://colah.github.io/posts/2015-08-Understanding-LSTMs/img/LSTM3-chain.png width=\"600\">\n",
    "\n"
   ]
  },
  {
   "cell_type": "markdown",
   "metadata": {},
   "source": [
    "Compared to a simple RNN the LSTM cell has a hidden vector and an additional cell state vector. __What size does the cell state have?__ <br>\n",
    "The operations inside the LSTM are given as \n",
    "\n",
    "<img src=https://wikimedia.org/api/rest_v1/media/math/render/svg/2db2cba6a0d878e13932fa27ce6f3fb71ad99cf1  width=\"600\">\n",
    "where \n",
    "f_t: forget gate,  <br>\n",
    "i_t: input gate, <br>\n",
    "o_t: output gate, <br>\n",
    "h_t: hidden state vector, <br>\n",
    "c_t: cell state vector, <br>\n",
    "x_t: input vector, <br>\n",
    "t is time step, \n",
    "<br> \n",
    "<br> \n",
    "and<br> \n",
    "sigma_g: sigmoid activation <br> \n",
    "sigma_c and sigma_h: hyperbolic tangent function\n"
   ]
  },
  {
   "cell_type": "markdown",
   "metadata": {},
   "source": [
    "In the next step you should implement your own LSTM with the operations stated above."
   ]
  },
  {
   "cell_type": "code",
   "execution_count": 7,
   "metadata": {},
   "outputs": [],
   "source": [
    "# ToDo: Implement the RNN class\n",
    "from exercise_code.rnn.rnn_nn import LSTM"
   ]
  },
  {
   "cell_type": "code",
   "execution_count": 8,
   "metadata": {},
   "outputs": [
    {
     "name": "stdout",
     "output_type": "stream",
     "text": [
      "12\n",
      "Differnce between pytorch and your RNN implementation: 3.1441516057384433e-13\n",
      "Cool, you implemented a correct model.\n"
     ]
    }
   ],
   "source": [
    "\n",
    "# choose your input parameters\n",
    "input_size = 3\n",
    "hidden_dim = 3\n",
    "seq_len = 10 \n",
    "\n",
    "# define the two models\n",
    "pytorch_lstm=nn.LSTM(input_size, hidden_dim)\n",
    "i2dl_lstm=LSTM(input_size, hidden_dim)\n",
    "\n",
    "# initialise both lstms with same values\n",
    "for p in pytorch_lstm.parameters():\n",
    "    nn.init.constant_(p, val=0.3)\n",
    "for p in i2dl_lstm.parameters():\n",
    "    nn.init.constant_(p, val=0.3)\n",
    "    \n",
    "X=torch.randn(seq_len, 1, input_size)\n",
    "\n",
    "output_pytorch, (h_pytorch, _) = pytorch_lstm(X)\n",
    "output_i2dl , (h_i2dl, _ )= i2dl_lstm(X)\n",
    "\n",
    "# The difference of outputs should be 0!!\n",
    "diff = torch.sum((output_pytorch-output_i2dl) ** 2)\n",
    "print(\"Differnce between pytorch and your RNN implementation: %s\" % diff.item())\n",
    "if diff.item() < 10 ** -10:\n",
    "    print(\"Cool, you implemented a correct model.\")\n",
    "else:\n",
    "    print(\"Upps! There is something wrong in your model. Try again!\")"
   ]
  },
  {
   "cell_type": "code",
   "execution_count": 9,
   "metadata": {},
   "outputs": [
    {
     "name": "stdout",
     "output_type": "stream",
     "text": [
      "Time Pytorch LSTM 10000 runs: 8.290s\n",
      "Time I2DL LSTM 10000 runs: 16.809s\n"
     ]
    }
   ],
   "source": [
    "import timeit\n",
    "runs=10 ** 4\n",
    "\n",
    "print(\"Time Pytorch LSTM {} runs: {:.3f}s\".format(runs, timeit.timeit(\"pytorch_lstm(X)\", \n",
    "                                       setup=\"from __main__ import pytorch_lstm, X\", \n",
    "                                       number=runs))\n",
    "     )\n",
    "\n",
    "print(\"Time I2DL LSTM {} runs: {:.3f}s\".format(runs, timeit.timeit(\"i2dl_lstm(X)\", \n",
    "                                       setup=\"from __main__ import i2dl_lstm, X\", \n",
    "                                       number=runs))\n",
    "     )"
   ]
  },
  {
   "cell_type": "markdown",
   "metadata": {},
   "source": [
    "## Explore Gradients \n",
    "Analogously to the RNN, calculate the gradients of the input wrt. to the output of the LSTM and compare it against the RNN gradients. __What do you see?__\n"
   ]
  },
  {
   "cell_type": "code",
   "execution_count": 10,
   "metadata": {},
   "outputs": [
    {
     "name": "stdout",
     "output_type": "stream",
     "text": [
      "600\n"
     ]
    },
    {
     "data": {
      "text/plain": [
       "[<matplotlib.lines.Line2D at 0x7fc2d800b4d0>]"
      ]
     },
     "execution_count": 10,
     "metadata": {},
     "output_type": "execute_result"
    },
    {
     "data": {
      "image/png": "[encoded data removed]",
      "text/plain": [
       "<Figure size 720x576 with 1 Axes>"
      ]
     },
     "metadata": {
      "needs_background": "light"
     },
     "output_type": "display_data"
    }
   ],
   "source": [
    "############################################################################\n",
    "# TODO: Define a RNN and LSTM and explore the gradients on the output h_T   #\n",
    "# wrt. the input at time t and plot your result.                           #\n",
    "############################################################################\n",
    "\n",
    "\n",
    "# network parameters\n",
    "input_size = 50\n",
    "hidden_dim = 150\n",
    "seq_len = 100\n",
    "batch_size = 2\n",
    "\n",
    "lstm=LSTM(input_size, hidden_dim,1)\n",
    "\n",
    "\n",
    "\n",
    "X=torch.randn(seq_len, 1, input_size)\n",
    "\n",
    "output, h = lstm(X)\n",
    "\n",
    "h_0 = torch.zeros(1, lstm.hidden_size, requires_grad=True).to(X.device)\n",
    "c_0 = torch.zeros(1, lstm.hidden_size, requires_grad=True).to(X.device)\n",
    "h_t = h_0\n",
    "c_t = c_0\n",
    "grads2 = []\n",
    "\n",
    "for t in range(seq_len):\n",
    "    h_t, c_t = lstm.lstm_cell(X[t], h_t, c_t, lstm.V, lstm.W, lstm.b, lstm.b2)\n",
    "    #h_t = output[t].squeeze(1)\n",
    "    #print(h_t, '+++++++++++++++',h)\n",
    "\n",
    "    loss = h_t.abs().sum() # we'll use the l1 norm of the current hidden state as the loss\n",
    "    loss.backward(retain_graph=True)\n",
    "    grads2.append(torch.norm(h_0.grad).item())\n",
    "    h_0.grad.zero_()\n",
    "\n",
    "h_0 = torch.zeros(rnn.hidden_size, requires_grad=True).to(X.device)\n",
    "h_t = h_0\n",
    "grads = []\n",
    "\n",
    "\n",
    "plt.plot(grads2)\n",
    "#plt.plot(grads)\n",
    "############################################################################\n",
    "#                             END OF YOUR CODE                             #\n",
    "############################################################################"
   ]
  },
  {
   "cell_type": "markdown",
   "metadata": {},
   "source": [
    "## MNIST image classification with RNNs\n",
    "\n",
    "In the previous exercises we already have classified images with a Fully Connected and Convolutional Network. In this exercise, we will solve the problem of image classification with a recurrent neural network.  \n",
    "\n",
    "For the experiment we use the MNIST handwritten digits dataset which we already know from the autoencoder exercise. This dataset consists of images of the 10 different digits (10 classes). The images have the resolution 28 x 28. The idea for the RNN classifier is to interpret the image as a sequence of rows. This means that we pass the rows through the RNN and use the final hidden state for classification. "
   ]
  },
  {
   "cell_type": "markdown",
   "metadata": {},
   "source": [
    "\n",
    "<div class=\"alert alert-info\">\n",
    "    <h3>Note</h3>\n",
    "    <p>\n",
    "    In this semester you have seen three different types of neural networks, namely Multi-Layer Perceptrons (MLPs), Convolutional Neural Networks (CNNs), and now Recurrent Neural Networks (RNNs). We have seen that we can use all three architectures for image classification. However, it turned out that some models are better than others for image classification. Try to think about advantages and disadvantages of the models, regarding # of parameters, transformations of the object in the image (scaling, rotation, translation,...), training time, testing time, over-fitting, etc."
   ]
  },
  {
   "cell_type": "code",
   "execution_count": 11,
   "metadata": {},
   "outputs": [],
   "source": [
    "# Define data loader\n",
    "from torchvision import transforms\n",
    "import pickle\n",
    "\n",
    "class Unsqueeze(object):\n",
    "    \"\"\"Adds a channel dimension that that our 2 dimensional input (H, W), \n",
    "    fits the 3 dimensional (H, W, C) expectations of pytorch's ToTensor function which\n",
    "    expects a PIL image. This is very inefficient but you most probably will use pytorch's\n",
    "    PIL image loader. Check out the documentation and make it more efficient :)\n",
    "    \"\"\"\n",
    "    def __init__(self, dimension=0):\n",
    "        self.dimension = dimension\n",
    "    def __call__(self, numpy_array):\n",
    "        extended_array = np.expand_dims(numpy_array, self.dimension)\n",
    "        return extended_array\n",
    "    def __repr__(self):\n",
    "        return self.__class__.__name__ + 'dimension={}'.format(dimension)\n",
    "\n",
    "    \n",
    "# transformation of data\n",
    "transform = transforms.Compose([\n",
    "    Unsqueeze(dimension=3),     \n",
    "    transforms.ToTensor(),\n",
    "    transforms.Normalize(mean=(0.5,), std=(0.5,))\n",
    "])\n",
    "\n",
    "\n",
    "class MnistDataset(torch.utils.data.Dataset):\n",
    "    def __init__(self, images, labels, \n",
    "                 transform=None):\n",
    "        super(MnistDataset, self).__init__()\n",
    "        self.images = images\n",
    "        self.labels = labels\n",
    "        self.transform = transform\n",
    "       \n",
    "    def __len__(self):\n",
    "        return len(self.images)\n",
    "    \n",
    "    def __getitem__(self, idx):\n",
    "        image = self.images[idx]\n",
    "        label = self.labels[idx]\n",
    "        if self.transform: \n",
    "            image = self.transform(image)\n",
    "        return image, label\n",
    "\n",
    "    \n",
    "# loading the train data\n",
    "with open(\"../datasets/mnist/mnist_train.p\", \"rb\") as f:\n",
    "    mnist_raw = pickle.load(f)\n",
    "\n",
    "X, y = mnist_raw\n",
    "############################################################################\n",
    "# TODO: Set a useful training/ validation split                            #\n",
    "############################################################################    \n",
    "train_split = 0.7\n",
    "\n",
    "\n",
    "############################################################################\n",
    "#                             END OF YOUR CODE                             #\n",
    "############################################################################\n",
    "\n",
    "\n",
    "train_dset = MnistDataset(X[:int(len(X) * train_split)], y[:int(len(X) * train_split)], transform=transform)\n",
    "val_dset = MnistDataset(X[int(len(X) * train_split):], y[int(len(X) * train_split):], transform=transform)\n"
   ]
  },
  {
   "cell_type": "code",
   "execution_count": 12,
   "metadata": {},
   "outputs": [
    {
     "data": {
      "image/png": "[encoded data removed]",
      "text/plain": [
       "<Figure size 720x576 with 50 Axes>"
      ]
     },
     "metadata": {
      "needs_background": "light"
     },
     "output_type": "display_data"
    }
   ],
   "source": [
    "# Visualize some examples from the dataset. Stolen from other notebooks\n",
    "# We show a few examples of training images from each class.\n",
    "X=train_dset.images\n",
    "y=train_dset.labels\n",
    "\n",
    "\n",
    "classes = list(range(10))\n",
    "num_classes = len(classes)\n",
    "samples_per_class = 5\n",
    "for y_hat, cls in enumerate(classes):\n",
    "    idxs = np.flatnonzero(train_dset.labels == y_hat)\n",
    "    idxs = np.random.choice(idxs, samples_per_class, replace=False)\n",
    "    for i, idx in enumerate(idxs):\n",
    "        plt_idx = i * num_classes + y_hat + 1\n",
    "        plt.subplot(samples_per_class, num_classes, plt_idx)\n",
    "        plt.imshow(X[idx])\n",
    "        plt.axis('off')\n",
    "        if i == 0:\n",
    "            plt.title(cls)\n",
    "plt.show()"
   ]
  },
  {
   "cell_type": "markdown",
   "metadata": {},
   "source": [
    "Build a classifier based on a RNN where you sequentially feed the rows in the network and use the final hidden state for prediction."
   ]
  },
  {
   "cell_type": "markdown",
   "metadata": {},
   "source": [
    "<img src=https://cdn-images-1.medium.com/max/800/1*Cm_c-I02rBa1rtLZXBhNUw.png width=\"600\">\n"
   ]
  },
  {
   "cell_type": "code",
   "execution_count": 13,
   "metadata": {},
   "outputs": [],
   "source": [
    "from exercise_code.rnn.rnn_nn import LSTM_Classifier, RNN_Classifier\n",
    "model_rnn = RNN_Classifier()\n"
   ]
  },
  {
   "cell_type": "code",
   "execution_count": 14,
   "metadata": {},
   "outputs": [],
   "source": [
    "from exercise_code.rnn.solver import Solver"
   ]
  },
  {
   "cell_type": "code",
   "execution_count": 15,
   "metadata": {
    "scrolled": false
   },
   "outputs": [
    {
     "name": "stdout",
     "output_type": "stream",
     "text": [
      "START TRAIN.\n"
     ]
    },
    {
     "name": "stderr",
     "output_type": "stream",
     "text": [
      "/home/ralitsa/anaconda3/envs/i2dl/lib/python3.7/site-packages/ipykernel_launcher.py:14: DeprecationWarning: Both axis > a.ndim and axis < -a.ndim - 1 are deprecated and will raise an AxisError in the future.\n",
      "  \n"
     ]
    },
    {
     "name": "stdout",
     "output_type": "stream",
     "text": [
      "[Iteration 100/19695] TRAIN loss: 2.302\n",
      "[Iteration 200/19695] TRAIN loss: 2.279\n",
      "[Iteration 300/19695] TRAIN loss: 2.040\n",
      "[Iteration 400/19695] TRAIN loss: 1.502\n",
      "[Iteration 500/19695] TRAIN loss: 1.266\n",
      "[Iteration 600/19695] TRAIN loss: 1.214\n",
      "[Iteration 700/19695] TRAIN loss: 1.146\n",
      "[Iteration 800/19695] TRAIN loss: 1.112\n",
      "[Iteration 900/19695] TRAIN loss: 1.072\n",
      "[Iteration 1000/19695] TRAIN loss: 1.045\n",
      "[Iteration 1100/19695] TRAIN loss: 1.006\n",
      "[Iteration 1200/19695] TRAIN loss: 0.988\n",
      "[Iteration 1300/19695] TRAIN loss: 0.932\n",
      "[Epoch 1/15] TRAIN acc/loss: 0.500/0.932\n",
      "[Epoch 1/15] VAL   acc/loss: 0.677/0.971\n",
      "[Iteration 1413/19695] TRAIN loss: 0.916\n",
      "[Iteration 1513/19695] TRAIN loss: 0.874\n",
      "[Iteration 1613/19695] TRAIN loss: 0.875\n",
      "[Iteration 1713/19695] TRAIN loss: 0.886\n",
      "[Iteration 1813/19695] TRAIN loss: 0.825\n",
      "[Iteration 1913/19695] TRAIN loss: 0.812\n",
      "[Iteration 2013/19695] TRAIN loss: 0.753\n",
      "[Iteration 2113/19695] TRAIN loss: 0.711\n",
      "[Iteration 2213/19695] TRAIN loss: 0.729\n",
      "[Iteration 2313/19695] TRAIN loss: 0.675\n",
      "[Iteration 2413/19695] TRAIN loss: 0.657\n",
      "[Iteration 2513/19695] TRAIN loss: 0.652\n",
      "[Iteration 2613/19695] TRAIN loss: 0.630\n",
      "[Epoch 2/15] TRAIN acc/loss: 0.750/0.630\n",
      "[Epoch 2/15] VAL   acc/loss: 0.795/0.630\n",
      "[Iteration 2726/19695] TRAIN loss: 0.659\n",
      "[Iteration 2826/19695] TRAIN loss: 0.632\n",
      "[Iteration 2926/19695] TRAIN loss: 0.604\n",
      "[Iteration 3026/19695] TRAIN loss: 0.582\n",
      "[Iteration 3126/19695] TRAIN loss: 0.615\n",
      "[Iteration 3226/19695] TRAIN loss: 0.567\n",
      "[Iteration 3326/19695] TRAIN loss: 0.555\n",
      "[Iteration 3426/19695] TRAIN loss: 0.571\n",
      "[Iteration 3526/19695] TRAIN loss: 0.538\n",
      "[Iteration 3626/19695] TRAIN loss: 0.554\n",
      "[Iteration 3726/19695] TRAIN loss: 0.556\n",
      "[Iteration 3826/19695] TRAIN loss: 0.502\n",
      "[Iteration 3926/19695] TRAIN loss: 0.513\n",
      "[Epoch 3/15] TRAIN acc/loss: 0.688/0.513\n",
      "[Epoch 3/15] VAL   acc/loss: 0.835/0.510\n",
      "[Iteration 4039/19695] TRAIN loss: 0.526\n",
      "[Iteration 4139/19695] TRAIN loss: 0.486\n",
      "[Iteration 4239/19695] TRAIN loss: 0.517\n",
      "[Iteration 4339/19695] TRAIN loss: 0.483\n",
      "[Iteration 4439/19695] TRAIN loss: 0.492\n",
      "[Iteration 4539/19695] TRAIN loss: 0.498\n",
      "[Iteration 4639/19695] TRAIN loss: 0.470\n",
      "[Iteration 4739/19695] TRAIN loss: 0.464\n",
      "[Iteration 4839/19695] TRAIN loss: 0.469\n",
      "[Iteration 4939/19695] TRAIN loss: 0.469\n",
      "[Iteration 5039/19695] TRAIN loss: 0.441\n",
      "[Iteration 5139/19695] TRAIN loss: 0.444\n",
      "[Iteration 5239/19695] TRAIN loss: 0.457\n",
      "[Epoch 4/15] TRAIN acc/loss: 0.875/0.457\n",
      "[Epoch 4/15] VAL   acc/loss: 0.866/0.435\n",
      "[Iteration 5352/19695] TRAIN loss: 0.433\n",
      "[Iteration 5452/19695] TRAIN loss: 0.434\n",
      "[Iteration 5552/19695] TRAIN loss: 0.446\n",
      "[Iteration 5652/19695] TRAIN loss: 0.423\n",
      "[Iteration 5752/19695] TRAIN loss: 0.450\n",
      "[Iteration 5852/19695] TRAIN loss: 0.444\n",
      "[Iteration 5952/19695] TRAIN loss: 0.412\n",
      "[Iteration 6052/19695] TRAIN loss: 0.412\n",
      "[Iteration 6152/19695] TRAIN loss: 0.393\n",
      "[Iteration 6252/19695] TRAIN loss: 0.399\n",
      "[Iteration 6352/19695] TRAIN loss: 0.412\n",
      "[Iteration 6452/19695] TRAIN loss: 0.366\n",
      "[Iteration 6552/19695] TRAIN loss: 0.405\n",
      "[Epoch 5/15] TRAIN acc/loss: 0.812/0.405\n",
      "[Epoch 5/15] VAL   acc/loss: 0.864/0.452\n",
      "[Iteration 6665/19695] TRAIN loss: 0.409\n",
      "[Iteration 6765/19695] TRAIN loss: 0.370\n",
      "[Iteration 6865/19695] TRAIN loss: 0.397\n",
      "[Iteration 6965/19695] TRAIN loss: 0.372\n",
      "[Iteration 7065/19695] TRAIN loss: 0.411\n",
      "[Iteration 7165/19695] TRAIN loss: 0.373\n",
      "[Iteration 7265/19695] TRAIN loss: 0.374\n",
      "[Iteration 7365/19695] TRAIN loss: 0.406\n",
      "[Iteration 7465/19695] TRAIN loss: 0.365\n",
      "[Iteration 7565/19695] TRAIN loss: 0.375\n",
      "[Iteration 7665/19695] TRAIN loss: 0.351\n",
      "[Iteration 7765/19695] TRAIN loss: 0.355\n",
      "[Iteration 7865/19695] TRAIN loss: 0.358\n",
      "[Epoch 6/15] TRAIN acc/loss: 0.750/0.358\n",
      "[Epoch 6/15] VAL   acc/loss: 0.891/0.351\n",
      "[Iteration 7978/19695] TRAIN loss: 0.359\n",
      "[Iteration 8078/19695] TRAIN loss: 0.348\n",
      "[Iteration 8178/19695] TRAIN loss: 0.362\n",
      "[Iteration 8278/19695] TRAIN loss: 0.337\n",
      "[Iteration 8378/19695] TRAIN loss: 0.373\n",
      "[Iteration 8478/19695] TRAIN loss: 0.351\n",
      "[Iteration 8578/19695] TRAIN loss: 0.341\n",
      "[Iteration 8678/19695] TRAIN loss: 0.332\n",
      "[Iteration 8778/19695] TRAIN loss: 0.342\n",
      "[Iteration 8878/19695] TRAIN loss: 0.340\n",
      "[Iteration 8978/19695] TRAIN loss: 0.331\n",
      "[Iteration 9078/19695] TRAIN loss: 0.348\n",
      "[Iteration 9178/19695] TRAIN loss: 0.321\n",
      "[Epoch 7/15] TRAIN acc/loss: 0.750/0.321\n",
      "[Epoch 7/15] VAL   acc/loss: 0.895/0.341\n",
      "[Iteration 9291/19695] TRAIN loss: 0.301\n",
      "[Iteration 9391/19695] TRAIN loss: 0.335\n",
      "[Iteration 9491/19695] TRAIN loss: 0.312\n",
      "[Iteration 9591/19695] TRAIN loss: 0.329\n",
      "[Iteration 9691/19695] TRAIN loss: 0.348\n",
      "[Iteration 9791/19695] TRAIN loss: 0.302\n",
      "[Iteration 9891/19695] TRAIN loss: 0.336\n",
      "[Iteration 9991/19695] TRAIN loss: 0.331\n",
      "[Iteration 10091/19695] TRAIN loss: 0.295\n",
      "[Iteration 10191/19695] TRAIN loss: 0.315\n",
      "[Iteration 10291/19695] TRAIN loss: 0.327\n",
      "[Iteration 10391/19695] TRAIN loss: 0.314\n",
      "[Iteration 10491/19695] TRAIN loss: 0.284\n",
      "[Epoch 8/15] TRAIN acc/loss: 0.875/0.284\n",
      "[Epoch 8/15] VAL   acc/loss: 0.908/0.306\n",
      "[Iteration 10604/19695] TRAIN loss: 0.299\n",
      "[Iteration 10704/19695] TRAIN loss: 0.277\n",
      "[Iteration 10804/19695] TRAIN loss: 0.320\n",
      "[Iteration 10904/19695] TRAIN loss: 0.290\n",
      "[Iteration 11004/19695] TRAIN loss: 0.314\n",
      "[Iteration 11104/19695] TRAIN loss: 0.299\n",
      "[Iteration 11204/19695] TRAIN loss: 0.288\n",
      "[Iteration 11304/19695] TRAIN loss: 0.304\n",
      "[Iteration 11404/19695] TRAIN loss: 0.280\n",
      "[Iteration 11504/19695] TRAIN loss: 0.315\n",
      "[Iteration 11604/19695] TRAIN loss: 0.319\n",
      "[Iteration 11704/19695] TRAIN loss: 0.278\n",
      "[Iteration 11804/19695] TRAIN loss: 0.287\n",
      "[Epoch 9/15] TRAIN acc/loss: 0.812/0.287\n",
      "[Epoch 9/15] VAL   acc/loss: 0.915/0.278\n",
      "[Iteration 11917/19695] TRAIN loss: 0.268\n",
      "[Iteration 12017/19695] TRAIN loss: 0.277\n",
      "[Iteration 12117/19695] TRAIN loss: 0.292\n",
      "[Iteration 12217/19695] TRAIN loss: 0.280\n",
      "[Iteration 12317/19695] TRAIN loss: 0.318\n",
      "[Iteration 12417/19695] TRAIN loss: 0.279\n",
      "[Iteration 12517/19695] TRAIN loss: 0.293\n",
      "[Iteration 12617/19695] TRAIN loss: 0.267\n",
      "[Iteration 12717/19695] TRAIN loss: 0.274\n",
      "[Iteration 12817/19695] TRAIN loss: 0.268\n",
      "[Iteration 12917/19695] TRAIN loss: 0.260\n",
      "[Iteration 13017/19695] TRAIN loss: 0.275\n",
      "[Iteration 13117/19695] TRAIN loss: 0.272\n",
      "[Epoch 10/15] TRAIN acc/loss: 0.938/0.272\n",
      "[Epoch 10/15] VAL   acc/loss: 0.911/0.288\n",
      "[Iteration 13230/19695] TRAIN loss: 0.255\n",
      "[Iteration 13330/19695] TRAIN loss: 0.264\n",
      "[Iteration 13430/19695] TRAIN loss: 0.250\n",
      "[Iteration 13530/19695] TRAIN loss: 0.261\n",
      "[Iteration 13630/19695] TRAIN loss: 0.248\n",
      "[Iteration 13730/19695] TRAIN loss: 0.271\n",
      "[Iteration 13830/19695] TRAIN loss: 0.263\n",
      "[Iteration 13930/19695] TRAIN loss: 0.242\n",
      "[Iteration 14030/19695] TRAIN loss: 0.271\n",
      "[Iteration 14130/19695] TRAIN loss: 0.254\n",
      "[Iteration 14230/19695] TRAIN loss: 0.259\n",
      "[Iteration 14330/19695] TRAIN loss: 0.240\n",
      "[Iteration 14430/19695] TRAIN loss: 0.260\n",
      "[Epoch 11/15] TRAIN acc/loss: 1.000/0.260\n",
      "[Epoch 11/15] VAL   acc/loss: 0.922/0.253\n",
      "[Iteration 14543/19695] TRAIN loss: 0.233\n",
      "[Iteration 14643/19695] TRAIN loss: 0.258\n",
      "[Iteration 14743/19695] TRAIN loss: 0.244\n",
      "[Iteration 14843/19695] TRAIN loss: 0.248\n",
      "[Iteration 14943/19695] TRAIN loss: 0.259\n",
      "[Iteration 15043/19695] TRAIN loss: 0.249\n",
      "[Iteration 15143/19695] TRAIN loss: 0.243\n",
      "[Iteration 15243/19695] TRAIN loss: 0.245\n",
      "[Iteration 15343/19695] TRAIN loss: 0.264\n",
      "[Iteration 15443/19695] TRAIN loss: 0.226\n",
      "[Iteration 15543/19695] TRAIN loss: 0.230\n",
      "[Iteration 15643/19695] TRAIN loss: 0.250\n",
      "[Iteration 15743/19695] TRAIN loss: 0.235\n",
      "[Epoch 12/15] TRAIN acc/loss: 1.000/0.235\n",
      "[Epoch 12/15] VAL   acc/loss: 0.928/0.232\n",
      "[Iteration 15856/19695] TRAIN loss: 0.245\n",
      "[Iteration 15956/19695] TRAIN loss: 0.242\n",
      "[Iteration 16056/19695] TRAIN loss: 0.229\n",
      "[Iteration 16156/19695] TRAIN loss: 0.241\n",
      "[Iteration 16256/19695] TRAIN loss: 0.236\n",
      "[Iteration 16356/19695] TRAIN loss: 0.226\n",
      "[Iteration 16456/19695] TRAIN loss: 0.242\n",
      "[Iteration 16556/19695] TRAIN loss: 0.219\n",
      "[Iteration 16656/19695] TRAIN loss: 0.241\n",
      "[Iteration 16756/19695] TRAIN loss: 0.228\n",
      "[Iteration 16856/19695] TRAIN loss: 0.216\n",
      "[Iteration 16956/19695] TRAIN loss: 0.231\n",
      "[Iteration 17056/19695] TRAIN loss: 0.230\n",
      "[Epoch 13/15] TRAIN acc/loss: 0.938/0.230\n",
      "[Epoch 13/15] VAL   acc/loss: 0.923/0.253\n",
      "[Iteration 17169/19695] TRAIN loss: 0.238\n",
      "[Iteration 17269/19695] TRAIN loss: 0.193\n",
      "[Iteration 17369/19695] TRAIN loss: 0.243\n",
      "[Iteration 17469/19695] TRAIN loss: 0.234\n"
     ]
    },
    {
     "name": "stdout",
     "output_type": "stream",
     "text": [
      "[Iteration 17569/19695] TRAIN loss: 0.229\n",
      "[Iteration 17669/19695] TRAIN loss: 0.209\n",
      "[Iteration 17769/19695] TRAIN loss: 0.206\n",
      "[Iteration 17869/19695] TRAIN loss: 0.211\n",
      "[Iteration 17969/19695] TRAIN loss: 0.237\n",
      "[Iteration 18069/19695] TRAIN loss: 0.217\n",
      "[Iteration 18169/19695] TRAIN loss: 0.227\n",
      "[Iteration 18269/19695] TRAIN loss: 0.209\n",
      "[Iteration 18369/19695] TRAIN loss: 0.229\n",
      "[Epoch 14/15] TRAIN acc/loss: 0.938/0.229\n",
      "[Epoch 14/15] VAL   acc/loss: 0.923/0.250\n",
      "[Iteration 18482/19695] TRAIN loss: 0.209\n",
      "[Iteration 18582/19695] TRAIN loss: 0.204\n",
      "[Iteration 18682/19695] TRAIN loss: 0.207\n",
      "[Iteration 18782/19695] TRAIN loss: 0.212\n",
      "[Iteration 18882/19695] TRAIN loss: 0.226\n",
      "[Iteration 18982/19695] TRAIN loss: 0.200\n",
      "[Iteration 19082/19695] TRAIN loss: 0.203\n",
      "[Iteration 19182/19695] TRAIN loss: 0.205\n",
      "[Iteration 19282/19695] TRAIN loss: 0.191\n",
      "[Iteration 19382/19695] TRAIN loss: 0.211\n",
      "[Iteration 19482/19695] TRAIN loss: 0.236\n",
      "[Iteration 19582/19695] TRAIN loss: 0.220\n",
      "[Iteration 19682/19695] TRAIN loss: 0.210\n",
      "[Epoch 15/15] TRAIN acc/loss: 1.000/0.210\n",
      "[Epoch 15/15] VAL   acc/loss: 0.933/0.227\n",
      "FINISH.\n"
     ]
    }
   ],
   "source": [
    "batch_size = 32\n",
    "train_loader = torch.utils.data.DataLoader(\n",
    "                 dataset=train_dset,\n",
    "                 batch_size=batch_size,\n",
    "                 shuffle=True)\n",
    "val_loader = torch.utils.data.DataLoader(\n",
    "                dataset=val_dset,\n",
    "                batch_size=batch_size,\n",
    "                shuffle=False)\n",
    "\n",
    "solver = Solver(optim_args={\"lr\": 1e-4})\n",
    "\n",
    "# train rnn model\n",
    "solver.train(model_rnn, train_loader, val_loader, log_nth=100, num_epochs=15)"
   ]
  },
  {
   "cell_type": "markdown",
   "metadata": {},
   "source": [
    "Train your RNN classifier and try to tune the hyperparameters. With your simple RNN classifier you should exceed an accuracy higher than __90%__."
   ]
  },
  {
   "cell_type": "markdown",
   "metadata": {},
   "source": [
    "Try to improve your model by using a LSTM."
   ]
  },
  {
   "cell_type": "code",
   "execution_count": 21,
   "metadata": {},
   "outputs": [
    {
     "name": "stdout",
     "output_type": "stream",
     "text": [
      "START TRAIN.\n"
     ]
    },
    {
     "name": "stderr",
     "output_type": "stream",
     "text": [
      "/home/ralitsa/anaconda3/envs/i2dl/lib/python3.7/site-packages/ipykernel_launcher.py:14: DeprecationWarning: Both axis > a.ndim and axis < -a.ndim - 1 are deprecated and will raise an AxisError in the future.\n",
      "  \n"
     ]
    },
    {
     "name": "stdout",
     "output_type": "stream",
     "text": [
      "[Iteration 100/19695] TRAIN loss: 0.095\n",
      "[Iteration 200/19695] TRAIN loss: 0.092\n",
      "[Iteration 300/19695] TRAIN loss: 0.095\n",
      "[Iteration 400/19695] TRAIN loss: 0.092\n",
      "[Iteration 500/19695] TRAIN loss: 0.109\n",
      "[Iteration 600/19695] TRAIN loss: 0.091\n",
      "[Iteration 700/19695] TRAIN loss: 0.081\n",
      "[Iteration 800/19695] TRAIN loss: 0.090\n",
      "[Iteration 900/19695] TRAIN loss: 0.105\n",
      "[Iteration 1000/19695] TRAIN loss: 0.106\n",
      "[Iteration 1100/19695] TRAIN loss: 0.113\n",
      "[Iteration 1200/19695] TRAIN loss: 0.108\n",
      "[Iteration 1300/19695] TRAIN loss: 0.111\n",
      "[Epoch 1/15] TRAIN acc/loss: 0.938/0.111\n",
      "[Epoch 1/15] VAL   acc/loss: 0.962/0.140\n",
      "[Iteration 1413/19695] TRAIN loss: 0.086\n",
      "[Iteration 1513/19695] TRAIN loss: 0.087\n",
      "[Iteration 1613/19695] TRAIN loss: 0.079\n",
      "[Iteration 1713/19695] TRAIN loss: 0.084\n",
      "[Iteration 1813/19695] TRAIN loss: 0.100\n",
      "[Iteration 1913/19695] TRAIN loss: 0.098\n",
      "[Iteration 2013/19695] TRAIN loss: 0.105\n",
      "[Iteration 2113/19695] TRAIN loss: 0.085\n",
      "[Iteration 2213/19695] TRAIN loss: 0.086\n",
      "[Iteration 2313/19695] TRAIN loss: 0.110\n",
      "[Iteration 2413/19695] TRAIN loss: 0.097\n",
      "[Iteration 2513/19695] TRAIN loss: 0.077\n",
      "[Iteration 2613/19695] TRAIN loss: 0.096\n",
      "[Epoch 2/15] TRAIN acc/loss: 0.938/0.096\n",
      "[Epoch 2/15] VAL   acc/loss: 0.966/0.144\n",
      "[Iteration 2726/19695] TRAIN loss: 0.097\n",
      "[Iteration 2826/19695] TRAIN loss: 0.067\n",
      "[Iteration 2926/19695] TRAIN loss: 0.093\n",
      "[Iteration 3026/19695] TRAIN loss: 0.093\n",
      "[Iteration 3126/19695] TRAIN loss: 0.098\n",
      "[Iteration 3226/19695] TRAIN loss: 0.098\n",
      "[Iteration 3326/19695] TRAIN loss: 0.097\n",
      "[Iteration 3426/19695] TRAIN loss: 0.097\n",
      "[Iteration 3526/19695] TRAIN loss: 0.099\n",
      "[Iteration 3626/19695] TRAIN loss: 0.093\n",
      "[Iteration 3726/19695] TRAIN loss: 0.093\n",
      "[Iteration 3826/19695] TRAIN loss: 0.098\n",
      "[Iteration 3926/19695] TRAIN loss: 0.107\n",
      "[Epoch 3/15] TRAIN acc/loss: 1.000/0.107\n",
      "[Epoch 3/15] VAL   acc/loss: 0.950/0.174\n",
      "[Iteration 4039/19695] TRAIN loss: 0.081\n",
      "[Iteration 4139/19695] TRAIN loss: 0.072\n",
      "[Iteration 4239/19695] TRAIN loss: 0.088\n",
      "[Iteration 4339/19695] TRAIN loss: 0.082\n",
      "[Iteration 4439/19695] TRAIN loss: 0.109\n",
      "[Iteration 4539/19695] TRAIN loss: 0.087\n",
      "[Iteration 4639/19695] TRAIN loss: 0.091\n",
      "[Iteration 4739/19695] TRAIN loss: 0.093\n",
      "[Iteration 4839/19695] TRAIN loss: 0.092\n",
      "[Iteration 4939/19695] TRAIN loss: 0.110\n",
      "[Iteration 5039/19695] TRAIN loss: 0.099\n",
      "[Iteration 5139/19695] TRAIN loss: 0.095\n",
      "[Iteration 5239/19695] TRAIN loss: 0.078\n",
      "[Epoch 4/15] TRAIN acc/loss: 1.000/0.078\n",
      "[Epoch 4/15] VAL   acc/loss: 0.977/0.079\n",
      "[Iteration 5352/19695] TRAIN loss: 0.079\n",
      "[Iteration 5452/19695] TRAIN loss: 0.100\n",
      "[Iteration 5552/19695] TRAIN loss: 0.083\n",
      "[Iteration 5652/19695] TRAIN loss: 0.100\n",
      "[Iteration 5752/19695] TRAIN loss: 0.075\n",
      "[Iteration 5852/19695] TRAIN loss: 0.071\n",
      "[Iteration 5952/19695] TRAIN loss: 0.113\n",
      "[Iteration 6052/19695] TRAIN loss: 0.078\n",
      "[Iteration 6152/19695] TRAIN loss: 0.091\n",
      "[Iteration 6252/19695] TRAIN loss: 0.072\n",
      "[Iteration 6352/19695] TRAIN loss: 0.086\n",
      "[Iteration 6452/19695] TRAIN loss: 0.089\n",
      "[Iteration 6552/19695] TRAIN loss: 0.065\n",
      "[Epoch 5/15] TRAIN acc/loss: 0.875/0.065\n",
      "[Epoch 5/15] VAL   acc/loss: 0.972/0.100\n",
      "[Iteration 6665/19695] TRAIN loss: 0.073\n",
      "[Iteration 6765/19695] TRAIN loss: 0.073\n",
      "[Iteration 6865/19695] TRAIN loss: 0.093\n",
      "[Iteration 6965/19695] TRAIN loss: 0.118\n",
      "[Iteration 7065/19695] TRAIN loss: 0.088\n",
      "[Iteration 7165/19695] TRAIN loss: 0.080\n",
      "[Iteration 7265/19695] TRAIN loss: 0.133\n",
      "[Iteration 7365/19695] TRAIN loss: 0.076\n",
      "[Iteration 7465/19695] TRAIN loss: 0.073\n",
      "[Iteration 7565/19695] TRAIN loss: 0.074\n",
      "[Iteration 7665/19695] TRAIN loss: 0.054\n",
      "[Iteration 7765/19695] TRAIN loss: 0.089\n",
      "[Iteration 7865/19695] TRAIN loss: 0.077\n",
      "[Epoch 6/15] TRAIN acc/loss: 1.000/0.077\n",
      "[Epoch 6/15] VAL   acc/loss: 0.973/0.094\n",
      "[Iteration 7978/19695] TRAIN loss: 0.060\n",
      "[Iteration 8078/19695] TRAIN loss: 0.098\n",
      "[Iteration 8178/19695] TRAIN loss: 0.096\n",
      "[Iteration 8278/19695] TRAIN loss: 0.082\n",
      "[Iteration 8378/19695] TRAIN loss: 0.059\n",
      "[Iteration 8478/19695] TRAIN loss: 0.084\n",
      "[Iteration 8578/19695] TRAIN loss: 0.068\n",
      "[Iteration 8678/19695] TRAIN loss: 0.071\n",
      "[Iteration 8778/19695] TRAIN loss: 0.096\n",
      "[Iteration 8878/19695] TRAIN loss: 0.072\n",
      "[Iteration 8978/19695] TRAIN loss: 0.091\n",
      "[Iteration 9078/19695] TRAIN loss: 0.086\n",
      "[Iteration 9178/19695] TRAIN loss: 0.058\n",
      "[Epoch 7/15] TRAIN acc/loss: 1.000/0.058\n",
      "[Epoch 7/15] VAL   acc/loss: 0.970/0.117\n",
      "[Iteration 9291/19695] TRAIN loss: 0.057\n",
      "[Iteration 9391/19695] TRAIN loss: 0.085\n",
      "[Iteration 9491/19695] TRAIN loss: 0.071\n",
      "[Iteration 9591/19695] TRAIN loss: 0.082\n",
      "[Iteration 9691/19695] TRAIN loss: 0.084\n",
      "[Iteration 9791/19695] TRAIN loss: 0.068\n",
      "[Iteration 9891/19695] TRAIN loss: 0.072\n",
      "[Iteration 9991/19695] TRAIN loss: 0.102\n",
      "[Iteration 10091/19695] TRAIN loss: 0.112\n",
      "[Iteration 10191/19695] TRAIN loss: 0.087\n",
      "[Iteration 10291/19695] TRAIN loss: 0.079\n",
      "[Iteration 10391/19695] TRAIN loss: 0.076\n",
      "[Iteration 10491/19695] TRAIN loss: 0.080\n",
      "[Epoch 8/15] TRAIN acc/loss: 1.000/0.080\n",
      "[Epoch 8/15] VAL   acc/loss: 0.965/0.117\n",
      "[Iteration 10604/19695] TRAIN loss: 0.063\n",
      "[Iteration 10704/19695] TRAIN loss: 0.066\n",
      "[Iteration 10804/19695] TRAIN loss: 0.106\n",
      "[Iteration 10904/19695] TRAIN loss: 0.090\n",
      "[Iteration 11004/19695] TRAIN loss: 0.057\n",
      "[Iteration 11104/19695] TRAIN loss: 0.077\n",
      "[Iteration 11204/19695] TRAIN loss: 0.101\n",
      "[Iteration 11304/19695] TRAIN loss: 0.068\n",
      "[Iteration 11404/19695] TRAIN loss: 0.079\n",
      "[Iteration 11504/19695] TRAIN loss: 0.081\n",
      "[Iteration 11604/19695] TRAIN loss: 0.077\n",
      "[Iteration 11704/19695] TRAIN loss: 0.084\n",
      "[Iteration 11804/19695] TRAIN loss: 0.073\n",
      "[Epoch 9/15] TRAIN acc/loss: 1.000/0.073\n",
      "[Epoch 9/15] VAL   acc/loss: 0.975/0.096\n",
      "[Iteration 11917/19695] TRAIN loss: 0.077\n",
      "[Iteration 12017/19695] TRAIN loss: 0.057\n",
      "[Iteration 12117/19695] TRAIN loss: 0.074\n",
      "[Iteration 12217/19695] TRAIN loss: 0.078\n",
      "[Iteration 12317/19695] TRAIN loss: 0.084\n",
      "[Iteration 12417/19695] TRAIN loss: 0.068\n",
      "[Iteration 12517/19695] TRAIN loss: 0.086\n",
      "[Iteration 12617/19695] TRAIN loss: 0.054\n",
      "[Iteration 12717/19695] TRAIN loss: 0.048\n",
      "[Iteration 12817/19695] TRAIN loss: 0.068\n",
      "[Iteration 12917/19695] TRAIN loss: 0.075\n",
      "[Iteration 13017/19695] TRAIN loss: 0.065\n",
      "[Iteration 13117/19695] TRAIN loss: 0.079\n",
      "[Epoch 10/15] TRAIN acc/loss: 1.000/0.079\n",
      "[Epoch 10/15] VAL   acc/loss: 0.976/0.085\n",
      "[Iteration 13230/19695] TRAIN loss: 0.074\n",
      "[Iteration 13330/19695] TRAIN loss: 0.057\n",
      "[Iteration 13430/19695] TRAIN loss: 0.069\n",
      "[Iteration 13530/19695] TRAIN loss: 0.073\n",
      "[Iteration 13630/19695] TRAIN loss: 0.092\n",
      "[Iteration 13730/19695] TRAIN loss: 0.083\n",
      "[Iteration 13830/19695] TRAIN loss: 0.084\n",
      "[Iteration 13930/19695] TRAIN loss: 0.059\n",
      "[Iteration 14030/19695] TRAIN loss: 0.060\n",
      "[Iteration 14130/19695] TRAIN loss: 0.086\n",
      "[Iteration 14230/19695] TRAIN loss: 0.087\n",
      "[Iteration 14330/19695] TRAIN loss: 0.066\n",
      "[Iteration 14430/19695] TRAIN loss: 0.077\n",
      "[Epoch 11/15] TRAIN acc/loss: 1.000/0.077\n",
      "[Epoch 11/15] VAL   acc/loss: 0.976/0.082\n",
      "[Iteration 14543/19695] TRAIN loss: 0.086\n",
      "[Iteration 14643/19695] TRAIN loss: 0.076\n",
      "[Iteration 14743/19695] TRAIN loss: 0.055\n",
      "[Iteration 14843/19695] TRAIN loss: 0.069\n",
      "[Iteration 14943/19695] TRAIN loss: 0.066\n",
      "[Iteration 15043/19695] TRAIN loss: 0.077\n",
      "[Iteration 15143/19695] TRAIN loss: 0.052\n",
      "[Iteration 15243/19695] TRAIN loss: 0.080\n",
      "[Iteration 15343/19695] TRAIN loss: 0.073\n",
      "[Iteration 15443/19695] TRAIN loss: 0.082\n",
      "[Iteration 15543/19695] TRAIN loss: 0.085\n",
      "[Iteration 15643/19695] TRAIN loss: 0.080\n",
      "[Iteration 15743/19695] TRAIN loss: 0.070\n",
      "[Epoch 12/15] TRAIN acc/loss: 0.875/0.070\n",
      "[Epoch 12/15] VAL   acc/loss: 0.978/0.077\n",
      "[Iteration 15856/19695] TRAIN loss: 0.056\n",
      "[Iteration 15956/19695] TRAIN loss: 0.052\n",
      "[Iteration 16056/19695] TRAIN loss: 0.091\n",
      "[Iteration 16156/19695] TRAIN loss: 0.056\n",
      "[Iteration 16256/19695] TRAIN loss: 0.071\n",
      "[Iteration 16356/19695] TRAIN loss: 0.087\n",
      "[Iteration 16456/19695] TRAIN loss: 0.065\n",
      "[Iteration 16556/19695] TRAIN loss: 0.071\n",
      "[Iteration 16656/19695] TRAIN loss: 0.060\n",
      "[Iteration 16756/19695] TRAIN loss: 0.075\n",
      "[Iteration 16856/19695] TRAIN loss: 0.074\n",
      "[Iteration 16956/19695] TRAIN loss: 0.063\n",
      "[Iteration 17056/19695] TRAIN loss: 0.083\n",
      "[Epoch 13/15] TRAIN acc/loss: 1.000/0.083\n",
      "[Epoch 13/15] VAL   acc/loss: 0.975/0.090\n",
      "[Iteration 17169/19695] TRAIN loss: 0.065\n",
      "[Iteration 17269/19695] TRAIN loss: 0.059\n",
      "[Iteration 17369/19695] TRAIN loss: 0.064\n",
      "[Iteration 17469/19695] TRAIN loss: 0.078\n"
     ]
    },
    {
     "name": "stdout",
     "output_type": "stream",
     "text": [
      "[Iteration 17569/19695] TRAIN loss: 0.060\n",
      "[Iteration 17669/19695] TRAIN loss: 0.063\n",
      "[Iteration 17769/19695] TRAIN loss: 0.087\n",
      "[Iteration 17869/19695] TRAIN loss: 0.063\n",
      "[Iteration 17969/19695] TRAIN loss: 0.071\n",
      "[Iteration 18069/19695] TRAIN loss: 0.061\n",
      "[Iteration 18169/19695] TRAIN loss: 0.064\n",
      "[Iteration 18269/19695] TRAIN loss: 0.057\n",
      "[Iteration 18369/19695] TRAIN loss: 0.067\n",
      "[Epoch 14/15] TRAIN acc/loss: 1.000/0.067\n",
      "[Epoch 14/15] VAL   acc/loss: 0.973/0.096\n",
      "[Iteration 18482/19695] TRAIN loss: 0.054\n",
      "[Iteration 18582/19695] TRAIN loss: 0.077\n",
      "[Iteration 18682/19695] TRAIN loss: 0.050\n",
      "[Iteration 18782/19695] TRAIN loss: 0.071\n",
      "[Iteration 18882/19695] TRAIN loss: 0.047\n",
      "[Iteration 18982/19695] TRAIN loss: 0.099\n",
      "[Iteration 19082/19695] TRAIN loss: 0.082\n",
      "[Iteration 19182/19695] TRAIN loss: 0.058\n",
      "[Iteration 19282/19695] TRAIN loss: 0.076\n",
      "[Iteration 19382/19695] TRAIN loss: 0.062\n",
      "[Iteration 19482/19695] TRAIN loss: 0.081\n",
      "[Iteration 19582/19695] TRAIN loss: 0.052\n",
      "[Iteration 19682/19695] TRAIN loss: 0.053\n",
      "[Epoch 15/15] TRAIN acc/loss: 1.000/0.053\n",
      "[Epoch 15/15] VAL   acc/loss: 0.981/0.071\n",
      "FINISH.\n"
     ]
    }
   ],
   "source": [
    "from exercise_code.rnn.rnn_nn import LSTM_Classifier\n",
    "model= LSTM_Classifier()\n",
    "\n",
    "batch_size = 32\n",
    "train_loader = torch.utils.data.DataLoader(\n",
    "                 dataset=train_dset,\n",
    "                 batch_size=batch_size,\n",
    "                 shuffle=True)\n",
    "val_loader = torch.utils.data.DataLoader(\n",
    "                dataset=val_dset,\n",
    "                batch_size=batch_size,\n",
    "                shuffle=False)\n",
    "\n",
    "solver = Solver(optim_args={\"lr\": 7e-4})\n",
    "\n",
    "# train rnn model\n",
    "solver.train(model_rnn, train_loader, val_loader, log_nth=100, num_epochs=15)"
   ]
  },
  {
   "cell_type": "markdown",
   "metadata": {},
   "source": [
    "Train your LSTM model again and see wether it improves performance on the validation set"
   ]
  },
  {
   "cell_type": "markdown",
   "metadata": {},
   "source": [
    "# Test your Model\n",
    "When you are satisfied with your training, you can save the model. In order to be eligible for the bonus points you have to achieve a score higher than __97__."
   ]
  },
  {
   "cell_type": "markdown",
   "metadata": {},
   "source": [
    "## Save the Model\n",
    "\n",
    "When you are satisfied with your training, you can save the model."
   ]
  },
  {
   "cell_type": "code",
   "execution_count": 22,
   "metadata": {},
   "outputs": [
    {
     "name": "stdout",
     "output_type": "stream",
     "text": [
      "Saving model... models/rnn_mnist_nn.model\n"
     ]
    }
   ],
   "source": [
    "os.makedirs('models', exist_ok=True)\n",
    "model_rnn.save(\"models/rnn_mnist_nn.model\")"
   ]
  },
  {
   "cell_type": "code",
   "execution_count": null,
   "metadata": {},
   "outputs": [],
   "source": []
  }
 ],
 "metadata": {
  "kernelspec": {
   "display_name": "Python(i2dl)",
   "language": "python",
   "name": "i2dl"
  },
  "language_info": {
   "codemirror_mode": {
    "name": "ipython",
    "version": 3
   },
   "file_extension": ".py",
   "mimetype": "text/x-python",
   "name": "python",
   "nbconvert_exporter": "python",
   "pygments_lexer": "ipython3",
   "version": "3.7.5"
  }
 },
 "nbformat": 4,
 "nbformat_minor": 2
}
